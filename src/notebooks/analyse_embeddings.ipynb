{
 "cells": [
  {
   "cell_type": "markdown",
   "id": "3f841e21-a78f-4f3a-863d-b2f98d0658a8",
   "metadata": {
    "editable": true,
    "slideshow": {
     "slide_type": ""
    },
    "tags": []
   },
   "source": [
    "# setup"
   ]
  },
  {
   "cell_type": "code",
   "execution_count": null,
   "id": "1358ee58-fbe2-4a87-9f12-4a8d756ae221",
   "metadata": {
    "editable": true,
    "slideshow": {
     "slide_type": ""
    },
    "tags": []
   },
   "outputs": [],
   "source": [
    "import matplotlib.pyplot as plt\n",
    "import numpy as np\n",
    "import plotly.graph_objects as go\n",
    "import psycopg\n",
    "from kneed import KneeLocator\n",
    "from pgvector.psycopg import register_vector\n",
    "from sklearn.cluster import KMeans\n",
    "from sklearn.datasets import make_blobs\n",
    "from sklearn.decomposition import PCA\n",
    "from sklearn.manifold import TSNE"
   ]
  },
  {
   "cell_type": "code",
   "execution_count": null,
   "id": "343d1148-77fd-4fbe-840c-02bf1cfebbc7",
   "metadata": {
    "editable": true,
    "slideshow": {
     "slide_type": ""
    },
    "tags": []
   },
   "outputs": [],
   "source": [
    "conn = psycopg.connect(\n",
    "    dbname=\"postgres_db\",\n",
    "    user=\"postgres_user\",\n",
    "    password=\"postgres_password\",\n",
    "    host=\"veld_embeddings_platform_run_sql_server\",\n",
    "    port=\"5432\",\n",
    ")\n",
    "conn.autocommit = True\n",
    "register_vector(conn)\n",
    "cursor = conn.cursor()\n",
    "cursor.execute(\"SELECT version();\")\n",
    "print(cursor.fetchone())"
   ]
  },
  {
   "cell_type": "markdown",
   "id": "4b65ccb1-cb5f-43a9-9b44-a50785f58514",
   "metadata": {
    "editable": true,
    "slideshow": {
     "slide_type": ""
    },
    "tags": []
   },
   "source": [
    "# load_from_db"
   ]
  },
  {
   "cell_type": "code",
   "execution_count": null,
   "id": "8a2c180a-4bb8-42c0-b26b-5cf766907a35",
   "metadata": {
    "slideshow": {
     "slide_type": ""
    },
    "tags": []
   },
   "outputs": [],
   "source": [
    "def load_from_db(lemma_list, limit=None):\n",
    "    cursor.execute(\n",
    "        \"SELECT e.lemma, e.sentence_id, e.token_index, s.text, e.embedding\"\n",
    "        \" FROM embeddings__dbmdz__bert_base_german_cased__test AS e JOIN sentences AS s ON e.sentence_id = s.sentence_id\"\n",
    "        \" WHERE lemma = ANY(%s) ORDER BY sentence_id LIMIT %s;\",\n",
    "        (lemma_list, limit),\n",
    "    )\n",
    "    rows = cursor.fetchall()\n",
    "    labels = []\n",
    "    sentences = []\n",
    "    embeddings = []\n",
    "    for r in rows:\n",
    "        labels.append(\"lemma:\" + r[0] + \"__sent:\" + str(r[1]) + \"__token:\" + str(r[2]))\n",
    "        sentences.append(r[3])\n",
    "        embeddings.append(r[4])\n",
    "    labels = np.array(labels)\n",
    "    sentences = np.array(sentences)\n",
    "    embeddings = np.array(embeddings)\n",
    "    print(\"results from db:\", len(embeddings))\n",
    "    return labels, sentences, embeddings\n",
    "\n",
    "\n",
    "labels, sentences, embeddings = load_from_db([\"Frau\", \"Mann\", \"Haus\", \"Küche\", \"Werkstatt\"])"
   ]
  },
  {
   "cell_type": "markdown",
   "id": "68e7abb1-281d-425a-ba4e-8024ee3608a8",
   "metadata": {},
   "source": [
    "# calculate_tsne"
   ]
  },
  {
   "cell_type": "code",
   "execution_count": null,
   "id": "db79804a-da90-496f-a346-9e1c86119dca",
   "metadata": {},
   "outputs": [],
   "source": [
    "def calculate_tsne(embeddings, n_components=2, perpexity=5):\n",
    "    embeddings_tsne = TSNE(\n",
    "        n_components=n_components, perplexity=perpexity, random_state=42\n",
    "    ).fit_transform(embeddings)\n",
    "    return embeddings_tsne\n",
    "\n",
    "\n",
    "embeddings_tsne = calculate_tsne(embeddings)"
   ]
  },
  {
   "cell_type": "markdown",
   "id": "9d1c1db7-7f80-4675-8f39-9ad1f8586611",
   "metadata": {},
   "source": [
    "# calculate_pca"
   ]
  },
  {
   "cell_type": "code",
   "execution_count": null,
   "id": "f3ddcd72-e082-4509-90af-ed79992aae9d",
   "metadata": {},
   "outputs": [],
   "source": [
    "def calculate_pca(embeddings, n_components=2):\n",
    "    pca = PCA(n_components=2)\n",
    "    embeddings_pca = pca.fit_transform(embeddings)\n",
    "    return embeddings_pca\n",
    "\n",
    "\n",
    "embeddings_pca = calculate_pca(embeddings)"
   ]
  },
  {
   "cell_type": "markdown",
   "id": "ff7f1175-5a04-43de-b7e3-1f3a694262a2",
   "metadata": {
    "editable": true,
    "slideshow": {
     "slide_type": ""
    },
    "tags": []
   },
   "source": [
    "# calculate_kmeans"
   ]
  },
  {
   "cell_type": "code",
   "execution_count": null,
   "id": "817b2fb2-b42c-4507-893d-5c4a5092bf5c",
   "metadata": {},
   "outputs": [],
   "source": [
    "def calculate_kmeans(embeddings, n_clusters=None, max_k=5, title=None, show_knee_chart=True):\n",
    "    if n_clusters:\n",
    "        embeddings_kmeans = KMeans(n_clusters=n_clusters, random_state=42).fit(embeddings)\n",
    "    else:\n",
    "        inertia = []\n",
    "        k_iter = range(1, max_k + 1)\n",
    "        embeddings_kmeans_list = []\n",
    "        for k in k_iter:\n",
    "            embeddings_kmeans = KMeans(n_clusters=k, n_init=10, random_state=0).fit(embeddings)\n",
    "            embeddings_kmeans_list.append(embeddings_kmeans)\n",
    "            inertia.append(embeddings_kmeans.inertia_)\n",
    "        knee = KneeLocator(k_iter, inertia, curve=\"convex\", direction=\"decreasing\")\n",
    "        embeddings_kmeans = embeddings_kmeans_list[knee.knee - 1]\n",
    "        if show_knee_chart:\n",
    "            plt.plot(k_iter, inertia, marker=\"o\")\n",
    "            plt.axvline(x=knee.knee, color=\"r\", linestyle=\"--\", label=f\"Elbow at k={knee.knee}\")\n",
    "            plt.xlabel(\"k\")\n",
    "            plt.ylabel(\"Inertia\")\n",
    "            plt.title(title)\n",
    "            plt.xticks(k_iter)\n",
    "            plt.xlim(1, max_k)\n",
    "            plt.show()\n",
    "    print(\"embeddings_kmeans.cluster_centers_.shape:\", embeddings_kmeans.cluster_centers_.shape)\n",
    "    return embeddings_kmeans\n",
    "\n",
    "\n",
    "embeddings_kmeans_tsne = calculate_kmeans(embeddings_tsne, n_clusters=None, max_k=10, title=\"tsne\")\n",
    "embeddings_kmeans_pca = calculate_kmeans(embeddings_pca, n_clusters=None, max_k=10, title=\"pca\")"
   ]
  },
  {
   "cell_type": "markdown",
   "id": "ad67feac-3c9e-43f2-b812-72d990f91ca3",
   "metadata": {},
   "source": [
    "# show_plot"
   ]
  },
  {
   "cell_type": "code",
   "execution_count": null,
   "id": "2032c6b6-0718-4ba6-9ab3-0bc9cb896ac9",
   "metadata": {},
   "outputs": [],
   "source": [
    "def show_plot(labels, sentences, embeddings, kmeans=None, title=None, color_by=None):\n",
    "\n",
    "    if kmeans:\n",
    "        labels_new = []\n",
    "        for label, cluster_id in zip(labels, kmeans.labels_):\n",
    "            labels_new.append(label + \"__centroid:\" + str(cluster_id))\n",
    "        labels = np.array(labels_new)\n",
    "\n",
    "    color_set = set()\n",
    "    if color_by:\n",
    "        if color_by == \"lemma\":\n",
    "            color_id_list = []\n",
    "            color_id_dict = {}\n",
    "            color_id_current = 0\n",
    "            for l in labels:\n",
    "                lemma = l.split(\"__\")[0]\n",
    "                color_id = color_id_dict.get(lemma)\n",
    "                if color_id is None:\n",
    "                    color_id = color_id_current\n",
    "                    color_id_dict[lemma] = color_id\n",
    "                    color_id_current += 1\n",
    "                color_id_list.append(color_id)\n",
    "                color_set.add(color_id)\n",
    "        elif color_by == \"kmeans\":\n",
    "            color_id_list = kmeans.labels_\n",
    "            color_set = set(color_id_list)\n",
    "        else:\n",
    "            raise Exception('arg `color_by` must be either `\"lemma\"`, `\"kmeans\"`, or `None`')\n",
    "    else:\n",
    "        color_id_list = [0 for _ in embeddings]\n",
    "\n",
    "    if len(color_set) > 1:\n",
    "        color_dict = dict(\n",
    "            color=color_id_list,\n",
    "            colorscale=\"rainbow\",\n",
    "        )\n",
    "    else:\n",
    "        color_dict = dict(color=\"red\")\n",
    "\n",
    "    sentences = np.array([s[:110] for s in sentences])\n",
    "\n",
    "    fig = go.Figure(\n",
    "        data=go.Scatter(\n",
    "            x=embeddings[:, 0],\n",
    "            y=embeddings[:, 1],\n",
    "            mode=\"markers\",\n",
    "            customdata=np.stack((labels, sentences), axis=1),\n",
    "            marker=color_dict,\n",
    "            hovertemplate=\"x: %{x}<br>y: %{y}<br>label: %{customdata[0]}<br>sentence: %{customdata[1]}<extra></extra>\",\n",
    "            showlegend=False,\n",
    "        ),\n",
    "        layout=go.Layout(\n",
    "            title=title,\n",
    "            width=800,\n",
    "            height=800,\n",
    "            xaxis=dict(showgrid=False),\n",
    "            yaxis=dict(showgrid=False),\n",
    "        ),\n",
    "    )\n",
    "    if kmeans:\n",
    "        for i, (cx, cy) in enumerate(kmeans.cluster_centers_):\n",
    "            kmeans_label = f\"Centroid {i}\"\n",
    "            fig.add_scatter(\n",
    "                x=[cx],\n",
    "                y=[cy],\n",
    "                mode=\"markers+text\",\n",
    "                marker=dict(\n",
    "                    color=\"black\",\n",
    "                    size=20,\n",
    "                    symbol=\"x\",\n",
    "                ),\n",
    "                text=[\"<b>\" + kmeans_label + \"</b>\"],\n",
    "                textposition=\"top center\",\n",
    "                showlegend=False,\n",
    "                hovertemplate=\"x: %{x}<br>y: %{y}<br>\" + kmeans_label + \"<extra></extra>\",\n",
    "            )\n",
    "    fig.show()\n",
    "\n",
    "\n",
    "show_plot(\n",
    "    labels=labels,\n",
    "    sentences=sentences,\n",
    "    embeddings=embeddings_pca,\n",
    "    kmeans=embeddings_kmeans_pca,\n",
    "    color_by=\"lemma\",\n",
    ")"
   ]
  },
  {
   "cell_type": "markdown",
   "id": "7d15f7fd-0d06-4b60-a25b-96ab78e0be11",
   "metadata": {},
   "source": [
    "# query_and_plot"
   ]
  },
  {
   "cell_type": "code",
   "execution_count": null,
   "id": "c36d3f68-06c8-4f32-86a1-8ee289fc84d3",
   "metadata": {},
   "outputs": [],
   "source": [
    "def query_and_plot(lemma_list, color_by=\"lemma\", show_knee_chart=True):\n",
    "    labels, sentences, embeddings = load_from_db(lemma_list)\n",
    "    embeddings_tsne = calculate_tsne(embeddings)\n",
    "    embeddings_pca = calculate_pca(embeddings)\n",
    "    embeddings_kmeans_tsne = calculate_kmeans(\n",
    "        embeddings_tsne,\n",
    "        n_clusters=None,\n",
    "        max_k=10,\n",
    "        title=\"tsne elbow\",\n",
    "        show_knee_chart=show_knee_chart,\n",
    "    )\n",
    "    embeddings_kmeans_pca = calculate_kmeans(\n",
    "        embeddings_pca,\n",
    "        n_clusters=None,\n",
    "        max_k=10,\n",
    "        title=\"pca elbow\",\n",
    "        show_knee_chart=show_knee_chart,\n",
    "    )\n",
    "    show_plot(\n",
    "        labels=labels,\n",
    "        sentences=sentences,\n",
    "        embeddings=embeddings_tsne,\n",
    "        kmeans=embeddings_kmeans_tsne,\n",
    "        title=\"tsne: \" + str(lemma_list),\n",
    "        color_by=color_by,\n",
    "    )\n",
    "    show_plot(\n",
    "        labels=labels,\n",
    "        sentences=sentences,\n",
    "        embeddings=embeddings_pca,\n",
    "        kmeans=embeddings_kmeans_pca,\n",
    "        title=\"pca: \" + str(lemma_list),\n",
    "        color_by=color_by,\n",
    "    )\n",
    "\n",
    "\n",
    "query_and_plot(\n",
    "    lemma_list=[\"Frau\", \"Mann\", \"Haus\", \"Küche\", \"Werkstatt\"],\n",
    "    color_by=\"lemma\",\n",
    "    show_knee_chart=False,\n",
    ")"
   ]
  },
  {
   "cell_type": "markdown",
   "id": "dee7fea2-d106-4955-b3da-94d51ab30626",
   "metadata": {},
   "source": [
    "# analyses"
   ]
  },
  {
   "cell_type": "code",
   "execution_count": null,
   "id": "157c4c8e-a67a-4bb6-a893-0308165d315c",
   "metadata": {},
   "outputs": [],
   "source": [
    "query_and_plot([\"Frau\"], color_by=\"kmeans\")"
   ]
  },
  {
   "cell_type": "code",
   "execution_count": null,
   "id": "6b540d55-fcc3-4cb8-87b3-65977bd07992",
   "metadata": {},
   "outputs": [],
   "source": [
    "query_and_plot([\"Frau\", \"Mann\"], color_by=\"lemma\")"
   ]
  },
  {
   "cell_type": "code",
   "execution_count": null,
   "id": "cd9c90e5-ad53-4901-97af-61cb7b3519f3",
   "metadata": {},
   "outputs": [],
   "source": [
    "query_and_plot([\"Schloss\"], color_by=\"kmeans\")"
   ]
  },
  {
   "cell_type": "code",
   "execution_count": null,
   "id": "96a2d8b2-4973-42a4-bd81-cadba5ed772b",
   "metadata": {},
   "outputs": [],
   "source": [
    "query_and_plot([\"Band\"], color_by=\"kmeans\")"
   ]
  },
  {
   "cell_type": "markdown",
   "id": "30f72295-2906-48e6-908c-dc17c6d2a0b9",
   "metadata": {},
   "source": [
    "# various experiments\n",
    "\n",
    "**NOTE: Do not execute \"experimental cells\" below and then \"production cells\" above, as the cells below are not checked for potential overwriting of variables used in cells above**"
   ]
  },
  {
   "cell_type": "markdown",
   "id": "03a3504e-043b-4b4a-827d-5f783d630d1f",
   "metadata": {},
   "source": [
    "## kmeans"
   ]
  },
  {
   "cell_type": "markdown",
   "id": "a6c5ca25-3b2c-455e-a6ee-7647dd40300f",
   "metadata": {},
   "source": [
    "### kmeans from scratch"
   ]
  },
  {
   "cell_type": "code",
   "execution_count": null,
   "id": "e3f72b8a-190c-484f-a1ef-fb93d4f98304",
   "metadata": {},
   "outputs": [],
   "source": [
    "import matplotlib.pyplot as plt\n",
    "import numpy as np\n",
    "from sklearn.datasets import make_blobs\n",
    "\n",
    "np.random.seed(42)"
   ]
  },
  {
   "cell_type": "code",
   "execution_count": null,
   "id": "a3e1603a-a728-4a51-bbf4-92efddea727f",
   "metadata": {},
   "outputs": [],
   "source": [
    "k = 4"
   ]
  },
  {
   "cell_type": "code",
   "execution_count": null,
   "id": "cf7f1887-4e53-4258-9c34-688393ad2964",
   "metadata": {},
   "outputs": [],
   "source": [
    "data_test, _ = make_blobs(n_samples=300, centers=4, cluster_std=0.9, random_state=0)\n",
    "print(data_test.shape)"
   ]
  },
  {
   "cell_type": "code",
   "execution_count": null,
   "id": "6881f2dd-41eb-4405-b012-f3ec478dc32f",
   "metadata": {},
   "outputs": [],
   "source": [
    "def init_centroids(data, k, debug_print=False):\n",
    "    indices = np.random.choice(data.shape[0], size=k, replace=False)\n",
    "    centroids = data[indices]\n",
    "    if debug_print:\n",
    "        print(\"-- init_centroids --\")\n",
    "        print(centroids.shape)\n",
    "        print(centroids)\n",
    "    return centroids\n",
    "\n",
    "\n",
    "centroids_test = init_centroids(data_test, k, True)"
   ]
  },
  {
   "cell_type": "code",
   "execution_count": null,
   "id": "39e8ef20-7551-4f78-ae56-f937c4176546",
   "metadata": {},
   "outputs": [],
   "source": [
    "def assign_centroid(data, centroids, debug_print=False):\n",
    "    distances = np.linalg.norm(data[:, np.newaxis] - centroids, axis=2)\n",
    "    data_centroids_indices = np.argmin(distances, axis=1)\n",
    "    if debug_print:\n",
    "        print(\"-- assign_centroid --\")\n",
    "        print(\"distances.shape:\", distances.shape)\n",
    "        print(\"distances[0]:\", distances[0])\n",
    "        print(\"data[0]:\", data[0])\n",
    "        print(\"centroids:\", centroids)\n",
    "        print(\n",
    "            \"np.linalg.norm(data[0] - centroids, axis=1):\",\n",
    "            np.linalg.norm(data[0] - centroids, axis=1),\n",
    "        )\n",
    "        print(\"data_centroids_indices[0]:\", data_centroids_indices[0])\n",
    "    return data_centroids_indices\n",
    "\n",
    "\n",
    "data_centroids_indices_test = assign_centroid(data_test, centroids_test, True)"
   ]
  },
  {
   "cell_type": "code",
   "execution_count": null,
   "id": "dc0c3da7-cb0b-41c8-a851-22288090d158",
   "metadata": {},
   "outputs": [],
   "source": [
    "def update_centroids(data, centroids, data_centroids_indices, debug_print=False):\n",
    "    centroids_new = np.array([data[data_centroids_indices == i].mean(axis=0) for i in range(k)])\n",
    "    if debug_print:\n",
    "        print(\"-- update_centroids --\")\n",
    "        print(\"centroids:\", centroids)\n",
    "        print(\"centroids_new:\", centroids_new)\n",
    "    return centroids_new\n",
    "\n",
    "\n",
    "centroids_new_test = update_centroids(data_test, centroids_test, data_centroids_indices_test, True)"
   ]
  },
  {
   "cell_type": "code",
   "execution_count": null,
   "id": "ffb68851-0317-4799-a113-67034b85f84b",
   "metadata": {},
   "outputs": [],
   "source": [
    "def have_centroids_converged(centroids, centroids_new, threshold, debug_print=False):\n",
    "    distances = np.linalg.norm(centroids - centroids_new, axis=1)\n",
    "    have_centroids_converged = np.all(distances < threshold)\n",
    "    if debug_print:\n",
    "        print(\"-- have_centroids_converged --\")\n",
    "        print(\"distance:\", distances)\n",
    "        print(\"have_centroids_converged:\", have_centroids_converged)\n",
    "    return have_centroids_converged\n",
    "\n",
    "\n",
    "centroids_converged_test = have_centroids_converged(centroids_test, centroids_new_test, True)"
   ]
  },
  {
   "cell_type": "code",
   "execution_count": null,
   "id": "0a7bcaaa-ea14-4379-bd66-7857defde21e",
   "metadata": {},
   "outputs": [],
   "source": [
    "def kmeans_main(data, k, threshold=1e-1, debug_print=False):\n",
    "    if debug_print:\n",
    "        print(\"-- kmeans_main: start --\")\n",
    "    centroids = init_centroids(data, k, debug_print)\n",
    "    centroids_converged = False\n",
    "    while not centroids_converged:\n",
    "        data_centroids_indices = assign_centroid(data, centroids, debug_print)\n",
    "        centroids_new = update_centroids(data, centroids, data_centroids_indices, debug_print)\n",
    "        centroids_converged = have_centroids_converged(\n",
    "            centroids, centroids_new, threshold, debug_print\n",
    "        )\n",
    "        centroids = centroids_new\n",
    "    if debug_print:\n",
    "        print(\"-- kmeans_main: end --\")\n",
    "        print(centroids, data_centroids_indices)\n",
    "    return centroids, data_centroids_indices\n",
    "\n",
    "\n",
    "centroids, data_centroids_indices = kmeans_main(\n",
    "    data=data_test, k=4, threshold=1e-4, debug_print=False\n",
    ")"
   ]
  },
  {
   "cell_type": "code",
   "execution_count": null,
   "id": "10c2c8b6-a345-4629-bd89-7e883017c1f5",
   "metadata": {},
   "outputs": [],
   "source": [
    "plt.figure(figsize=(8, 6))\n",
    "plt.scatter(data_test[:, 0], data_test[:, 1], c=data_centroids_indices, cmap=\"viridis\", s=30)\n",
    "handles = []\n",
    "labels_for_legend = []\n",
    "for i, (x, y) in enumerate(centroids):\n",
    "    handle = plt.scatter(x, y, color=\"red\", s=200, marker=\"X\")\n",
    "    handles.append(handle)\n",
    "    labels_for_legend.append(f\"Centroid {i}: ({x:.2f}, {y:.2f})\")\n",
    "plt.legend(handles, labels_for_legend, title=\"Centroids\", loc=\"best\")\n",
    "plt.title(\"K-Means from scratch\")\n",
    "plt.show()"
   ]
  },
  {
   "cell_type": "code",
   "execution_count": null,
   "id": "8b2871e8-e615-46e4-a9c3-863185b1870e",
   "metadata": {},
   "outputs": [],
   "source": [
    "import matplotlib.pyplot as plt\n",
    "import numpy as np\n",
    "from sklearn.cluster import KMeans\n",
    "from sklearn.datasets import make_blobs\n",
    "\n",
    "kmeans = KMeans(n_clusters=4, random_state=42)\n",
    "kmeans.fit(data_test)\n",
    "centroids = kmeans.cluster_centers_\n",
    "labels = kmeans.labels_\n",
    "\n",
    "plt.figure(figsize=(8, 6))\n",
    "plt.scatter(data_test[:, 0], data_test[:, 1], c=labels, cmap=\"viridis\", s=30)\n",
    "handles = []\n",
    "labels_for_legend = []\n",
    "for i, (x, y) in enumerate(centroids):\n",
    "    handle = plt.scatter(x, y, color=\"red\", s=200, marker=\"X\")\n",
    "    handles.append(handle)\n",
    "    labels_for_legend.append(f\"Centroid {i}: ({x:.2f}, {y:.2f})\")\n",
    "plt.legend(handles, labels_for_legend, title=\"Centroids\", loc=\"best\")\n",
    "plt.title(\"K-Means Clustering with sklearn\")\n",
    "plt.show()"
   ]
  },
  {
   "cell_type": "markdown",
   "id": "1c4cb1af-f128-4ad9-a513-cdac1c594107",
   "metadata": {},
   "source": [
    "### kmeans visualizations"
   ]
  },
  {
   "cell_type": "code",
   "execution_count": null,
   "id": "4d91fc4f-80d8-4222-af17-08ddb9e06984",
   "metadata": {},
   "outputs": [],
   "source": [
    "import matplotlib.pyplot as plt\n",
    "import numpy as np\n",
    "from sklearn.cluster import KMeans\n",
    "from sklearn.datasets import make_blobs\n",
    "\n",
    "data_test, _ = make_blobs(n_samples=300, centers=4, cluster_std=0.9, random_state=0)\n",
    "print(data_test.shape)\n",
    "\n",
    "kmeans = KMeans(n_clusters=4, random_state=42)\n",
    "kmeans.fit(data_test)\n",
    "centroids = kmeans.cluster_centers_\n",
    "labels = kmeans.labels_\n",
    "\n",
    "plt.figure(figsize=(8, 6))\n",
    "plt.scatter(data_test[:, 0], data_test[:, 1], c=labels, cmap=\"viridis\", s=30)\n",
    "handles = []\n",
    "labels_for_legend = []\n",
    "for i, (x, y) in enumerate(centroids):\n",
    "    handle = plt.scatter(x, y, color=\"red\", s=200, marker=\"X\")\n",
    "    handles.append(handle)\n",
    "    labels_for_legend.append(f\"Centroid {i}: ({x:.2f}, {y:.2f})\")\n",
    "plt.legend(handles, labels_for_legend, title=\"Centroids\", loc=\"best\")\n",
    "plt.title(\"matplotlib\")\n",
    "plt.show()"
   ]
  },
  {
   "cell_type": "code",
   "execution_count": null,
   "id": "dd9aa1d4-a6fa-449c-9a1b-85c3f5562600",
   "metadata": {},
   "outputs": [],
   "source": [
    "import numpy as np\n",
    "import plotly.graph_objects as go\n",
    "from sklearn.cluster import KMeans\n",
    "from sklearn.datasets import make_blobs\n",
    "\n",
    "data_test, _ = make_blobs(n_samples=300, centers=4, cluster_std=0.9, random_state=0)\n",
    "print(data_test.shape)\n",
    "\n",
    "kmeans = KMeans(n_clusters=4, random_state=0).fit(data_test)\n",
    "labels = kmeans.labels_\n",
    "centroids = kmeans.cluster_centers_\n",
    "\n",
    "fig = go.Figure(\n",
    "    data=go.Scatter(\n",
    "        x=data_test[:, 0],\n",
    "        y=data_test[:, 1],\n",
    "        mode=\"markers\",\n",
    "        marker=dict(\n",
    "            color=labels,\n",
    "            colorscale=\"rainbow\",\n",
    "        ),\n",
    "        hovertemplate=\"x: %{x}<br>y: %{y}<extra></extra>\",\n",
    "        showlegend=False,\n",
    "    ),\n",
    "    layout=go.Layout(\n",
    "        title=\"plotly\",\n",
    "        width=800,\n",
    "        height=800,\n",
    "        xaxis=dict(showgrid=False),\n",
    "        yaxis=dict(showgrid=False),\n",
    "    ),\n",
    ")\n",
    "for i, (cx, cy) in enumerate(centroids):\n",
    "    fig.add_scatter(\n",
    "        x=[cx],\n",
    "        y=[cy],\n",
    "        mode=\"markers+text\",\n",
    "        marker=dict(\n",
    "            color=\"red\",\n",
    "            size=20,\n",
    "            symbol=\"x\",\n",
    "        ),\n",
    "        text=[f\"Centroid {i}\"],\n",
    "        textposition=\"top center\",\n",
    "        showlegend=False,\n",
    "        hovertemplate=\"x: %{x}<br>y: %{y}<extra></extra>\",\n",
    "    )\n",
    "\n",
    "fig.show()"
   ]
  },
  {
   "cell_type": "markdown",
   "id": "a36f98d6-af29-4fe3-9ca0-0fe6c07cf881",
   "metadata": {},
   "source": [
    "### elbow method"
   ]
  },
  {
   "cell_type": "code",
   "execution_count": null,
   "id": "0ce74bd7-7d60-4e59-8b08-eeb143d6b9f2",
   "metadata": {},
   "outputs": [],
   "source": [
    "import matplotlib.pyplot as plt\n",
    "from kneed import KneeLocator\n",
    "from sklearn.cluster import KMeans\n",
    "from sklearn.datasets import make_blobs\n",
    "\n",
    "# Sample data\n",
    "X, _ = make_blobs(n_samples=300, centers=4, cluster_std=0.6, random_state=0)\n",
    "\n",
    "inertia = []\n",
    "K = range(1, 11)\n",
    "\n",
    "for k in K:\n",
    "    model = KMeans(n_clusters=k, n_init=10, random_state=0)\n",
    "    model.fit(X)\n",
    "    inertia.append(model.inertia_)\n",
    "\n",
    "# Find elbow point\n",
    "knee = KneeLocator(K, inertia, curve=\"convex\", direction=\"decreasing\")\n",
    "\n",
    "# Plot\n",
    "plt.plot(K, inertia, marker=\"o\")\n",
    "plt.axvline(x=knee.knee, color=\"r\", linestyle=\"--\", label=f\"Elbow at k={knee.knee}\")\n",
    "plt.xlabel(\"k\")\n",
    "plt.ylabel(\"Inertia\")\n",
    "plt.title(\"Elbow Method with Automatic Detection\")\n",
    "plt.legend()\n",
    "plt.xticks(K)\n",
    "plt.xlim(1, 10)\n",
    "plt.show()\n",
    "print(f\"Optimal number of clusters (Elbow): {knee.knee}\")"
   ]
  },
  {
   "cell_type": "markdown",
   "id": "dc03ed50-6748-4192-ab96-6dd48336745e",
   "metadata": {},
   "source": [
    "## snippets to be removed"
   ]
  },
  {
   "cell_type": "code",
   "execution_count": null,
   "id": "04aa6124-94de-4ac9-afcb-6c871c0d4fef",
   "metadata": {},
   "outputs": [],
   "source": [
    "def show_plot_pca(labels, embeddings, title=None):\n",
    "    pca = PCA(n_components=2)\n",
    "    embeddings_reduced = pca.fit_transform(embeddings)\n",
    "    plt.figure(figsize=(8, 6))\n",
    "    plt.scatter(embeddings_reduced[:, 0], embeddings_reduced[:, 1], color=\"blue\", alpha=0.7)\n",
    "    for r, l in zip(embeddings_reduced, labels):\n",
    "        plt.text(r[0], r[1], l)\n",
    "    plt.title(title)\n",
    "    plt.show()\n",
    "\n",
    "\n",
    "show_plot_pca(labels, embeddings)"
   ]
  },
  {
   "cell_type": "code",
   "execution_count": null,
   "id": "826d8fb9-a3ab-401d-a284-c6f7ae21619b",
   "metadata": {},
   "outputs": [],
   "source": [
    "def show_plot_tsne(labels, embeddings, title=None):\n",
    "    tsne = TSNE(n_components=2, perplexity=5, random_state=42)\n",
    "    embeddings_reduced = tsne.fit_transform(embeddings)\n",
    "    plt.figure(figsize=(8, 6))\n",
    "    plt.scatter(embeddings_reduced[:, 0], embeddings_reduced[:, 1], c=\"blue\", alpha=0.7)\n",
    "    for i, label in enumerate(labels):\n",
    "        plt.text(\n",
    "            embeddings_reduced[i, 0],\n",
    "            embeddings_reduced[i, 1],\n",
    "            label,\n",
    "        )\n",
    "    plt.title(title)\n",
    "    plt.show()\n",
    "\n",
    "\n",
    "show_plot_tsne(labels, embeddings)"
   ]
  }
 ],
 "metadata": {
  "kernelspec": {
   "display_name": "Python 3 (ipykernel)",
   "language": "python",
   "name": "python3"
  },
  "language_info": {
   "codemirror_mode": {
    "name": "ipython",
    "version": 3
   },
   "file_extension": ".py",
   "mimetype": "text/x-python",
   "name": "python",
   "nbconvert_exporter": "python",
   "pygments_lexer": "ipython3",
   "version": "3.9.2"
  }
 },
 "nbformat": 4,
 "nbformat_minor": 5
}
